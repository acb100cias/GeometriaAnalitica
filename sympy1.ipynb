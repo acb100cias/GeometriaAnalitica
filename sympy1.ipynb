{
  "nbformat": 4,
  "nbformat_minor": 0,
  "metadata": {
    "colab": {
      "private_outputs": true,
      "provenance": [],
      "authorship_tag": "ABX9TyM4WXDoEj5utR7wAwyHFq6W",
      "include_colab_link": true
    },
    "kernelspec": {
      "name": "python3",
      "display_name": "Python 3"
    },
    "language_info": {
      "name": "python"
    }
  },
  "cells": [
    {
      "cell_type": "markdown",
      "metadata": {
        "id": "view-in-github",
        "colab_type": "text"
      },
      "source": [
        "<a href=\"https://colab.research.google.com/github/acb100cias/GeometriaAnalitica/blob/main/sympy1.ipynb\" target=\"_parent\"><img src=\"https://colab.research.google.com/assets/colab-badge.svg\" alt=\"Open In Colab\"/></a>"
      ]
    },
    {
      "cell_type": "code",
      "execution_count": null,
      "metadata": {
        "id": "w_prm3lHgcfw"
      },
      "outputs": [],
      "source": [
        "import sympy as sp"
      ]
    },
    {
      "cell_type": "code",
      "source": [
        "x=sp.Symbol('x')\n",
        "y=sp.Symbol('y')\n",
        "\n"
      ],
      "metadata": {
        "id": "TFVCQqOugtol"
      },
      "execution_count": null,
      "outputs": []
    },
    {
      "cell_type": "code",
      "source": [
        "expr=x**2+y**2"
      ],
      "metadata": {
        "id": "JoZvqZEvhHGY"
      },
      "execution_count": null,
      "outputs": []
    },
    {
      "cell_type": "code",
      "source": [
        "expr"
      ],
      "metadata": {
        "id": "Hu2k1_bMhNND"
      },
      "execution_count": null,
      "outputs": []
    },
    {
      "cell_type": "code",
      "source": [
        "expr2=sp.sin(x)+sp.cos(x)"
      ],
      "metadata": {
        "id": "7taUorqJhOSq"
      },
      "execution_count": null,
      "outputs": []
    },
    {
      "cell_type": "code",
      "source": [
        "expr2.subs(x,y)"
      ],
      "metadata": {
        "id": "ZE1BfROEhnGj"
      },
      "execution_count": null,
      "outputs": []
    },
    {
      "cell_type": "code",
      "source": [
        "expr2.evalf(subs={x:0.25*sp.pi})"
      ],
      "metadata": {
        "id": "s5e7vjg1hoEo"
      },
      "execution_count": null,
      "outputs": []
    },
    {
      "cell_type": "code",
      "source": [
        "expr3=sp.sin(x)*sp.sin(x)+sp.cos(x)*sp.cos(x)"
      ],
      "metadata": {
        "id": "EpzdwvoQis2G"
      },
      "execution_count": null,
      "outputs": []
    },
    {
      "cell_type": "code",
      "source": [
        "expr3.evalf(subs={x:1000000})"
      ],
      "metadata": {
        "id": "fXxW29_7jn8s"
      },
      "execution_count": null,
      "outputs": []
    },
    {
      "cell_type": "code",
      "source": [
        "expr4=x/y\n"
      ],
      "metadata": {
        "id": "-7h_fb6YjqsX"
      },
      "execution_count": null,
      "outputs": []
    },
    {
      "cell_type": "code",
      "source": [
        "expr4"
      ],
      "metadata": {
        "id": "iES1gaWLkNVx"
      },
      "execution_count": null,
      "outputs": []
    },
    {
      "cell_type": "code",
      "source": [
        "expr4.evalf(subs={x:1,y:sp.pi})"
      ],
      "metadata": {
        "id": "uRgGm8pukN-R"
      },
      "execution_count": null,
      "outputs": []
    },
    {
      "cell_type": "code",
      "source": [
        "f1=sp.lambdify(x,expr2)"
      ],
      "metadata": {
        "id": "CPyAC8ZOkX0Q"
      },
      "execution_count": null,
      "outputs": []
    },
    {
      "cell_type": "code",
      "source": [
        "f1(4)"
      ],
      "metadata": {
        "id": "TL5vykxxkqFS"
      },
      "execution_count": null,
      "outputs": []
    },
    {
      "cell_type": "code",
      "source": [
        "f2=sp.lambdify(x,expr3)"
      ],
      "metadata": {
        "id": "9AsWdUgVksol"
      },
      "execution_count": null,
      "outputs": []
    },
    {
      "cell_type": "code",
      "source": [
        "f2(10)"
      ],
      "metadata": {
        "id": "Z1-7xSkWk3aM"
      },
      "execution_count": null,
      "outputs": []
    },
    {
      "cell_type": "code",
      "source": [
        "c=sp.Symbol('c')\n",
        "a=sp.Symbol('a')"
      ],
      "metadata": {
        "id": "bm_8TIqnlfzr"
      },
      "execution_count": null,
      "outputs": []
    },
    {
      "cell_type": "code",
      "source": [
        "sp.factor(sp.expand((x+y)**2))"
      ],
      "metadata": {
        "id": "yHmHHGu9k5Dg"
      },
      "execution_count": null,
      "outputs": []
    },
    {
      "cell_type": "code",
      "source": [
        "f3=sp.lambdify(x,x**2)"
      ],
      "metadata": {
        "id": "BCnpKWVCmWyJ"
      },
      "execution_count": null,
      "outputs": []
    },
    {
      "cell_type": "code",
      "source": [
        "sp.factor(sp.expand(f3(sp.expand(sp.sqrt((x-c)**2+y**2)-sp.sqrt((x+c)**2+y**2)-2*a))))"
      ],
      "metadata": {
        "id": "xw6JP3gflc1k"
      },
      "execution_count": null,
      "outputs": []
    },
    {
      "cell_type": "code",
      "source": [],
      "metadata": {
        "id": "c_i-g35FmAGi"
      },
      "execution_count": null,
      "outputs": []
    }
  ]
}