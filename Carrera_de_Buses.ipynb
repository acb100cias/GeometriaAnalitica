{
  "nbformat": 4,
  "nbformat_minor": 0,
  "metadata": {
    "colab": {
      "private_outputs": true,
      "provenance": [],
      "authorship_tag": "ABX9TyOJhI63QpezDHBMpnrrgtRM",
      "include_colab_link": true
    },
    "kernelspec": {
      "name": "python3",
      "display_name": "Python 3"
    },
    "language_info": {
      "name": "python"
    }
  },
  "cells": [
    {
      "cell_type": "markdown",
      "metadata": {
        "id": "view-in-github",
        "colab_type": "text"
      },
      "source": [
        "<a href=\"https://colab.research.google.com/github/acb100cias/GeometriaAnalitica/blob/main/Carrera_de_Buses.ipynb\" target=\"_parent\"><img src=\"https://colab.research.google.com/assets/colab-badge.svg\" alt=\"Open In Colab\"/></a>"
      ]
    },
    {
      "cell_type": "code",
      "execution_count": null,
      "metadata": {
        "id": "KPnBJyXZbgS3"
      },
      "outputs": [],
      "source": [
        "import random"
      ]
    },
    {
      "cell_type": "code",
      "source": [
        "import numpy.random as rnd"
      ],
      "metadata": {
        "id": "oZBNDspBbiCx"
      },
      "execution_count": null,
      "outputs": []
    },
    {
      "cell_type": "code",
      "source": [
        "rnd.random(10000)"
      ],
      "metadata": {
        "id": "jWFMHYXNbmoj"
      },
      "execution_count": null,
      "outputs": []
    },
    {
      "cell_type": "code",
      "source": [
        "random.random(10000)"
      ],
      "metadata": {
        "id": "xAuDSYGOcHXQ"
      },
      "execution_count": null,
      "outputs": []
    },
    {
      "cell_type": "code",
      "source": [
        "imp\n",
        "import time\n",
        "a = 0\n",
        "b = 0\n",
        "gano = None  # Inicializa 'gano' aquí\n",
        "\n",
        "os.system(\"cls\" if os.name == \"nt\" else \"clear\")\n",
        "presentacion = \"\"\"\n",
        "        <<<<<<<<<<< carrera de buses >>>>>>>>>>\n",
        "            RED BULL VS MONSTER \"\"\"\n",
        "print(presentacion)\n",
        "time.sleep(3)\n",
        "while a < 97 and b < 97:\n",
        "    c = random.randint(1, 2)\n",
        "    if c == 1:\n",
        "        a += 1\n",
        "    if c == 2:\n",
        "        b += 1\n",
        "    os.system(\"cls\" if os.name == \"nt\" else \"clear\")\n",
        "    print(buses(a, b))\n",
        "    time.sleep(0.07)\n"
      ],
      "metadata": {
        "id": "cHaF-jhWcMIF"
      },
      "execution_count": null,
      "outputs": []
    },
    {
      "cell_type": "code",
      "source": [],
      "metadata": {
        "id": "gKSDR0DDhPSs"
      },
      "execution_count": null,
      "outputs": []
    }
  ]
}