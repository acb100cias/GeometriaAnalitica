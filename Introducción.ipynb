{
  "nbformat": 4,
  "nbformat_minor": 0,
  "metadata": {
    "colab": {
      "private_outputs": true,
      "provenance": [],
      "authorship_tag": "ABX9TyNedxLCrUpT7UbMeVK5LA85",
      "include_colab_link": true
    },
    "kernelspec": {
      "name": "python3",
      "display_name": "Python 3"
    },
    "language_info": {
      "name": "python"
    }
  },
  "cells": [
    {
      "cell_type": "markdown",
      "metadata": {
        "id": "view-in-github",
        "colab_type": "text"
      },
      "source": [
        "<a href=\"https://colab.research.google.com/github/acb100cias/GeometriaAnalitica/blob/main/Introducci%C3%B3n.ipynb\" target=\"_parent\"><img src=\"https://colab.research.google.com/assets/colab-badge.svg\" alt=\"Open In Colab\"/></a>"
      ]
    },
    {
      "cell_type": "code",
      "execution_count": null,
      "metadata": {
        "id": "FqBCSBBobjg2"
      },
      "outputs": [],
      "source": [
        "123123+123123"
      ]
    },
    {
      "cell_type": "code",
      "source": [
        "1817.27*1.8818"
      ],
      "metadata": {
        "id": "sNdsyiI1eocT"
      },
      "execution_count": null,
      "outputs": []
    },
    {
      "cell_type": "code",
      "source": [
        "2**0.5\n"
      ],
      "metadata": {
        "id": "H9y-wshhessU"
      },
      "execution_count": null,
      "outputs": []
    },
    {
      "cell_type": "code",
      "source": [
        "import math"
      ],
      "metadata": {
        "id": "oGB0jsDae2S6"
      },
      "execution_count": null,
      "outputs": []
    },
    {
      "cell_type": "code",
      "source": [
        "math.pi"
      ],
      "metadata": {
        "id": "eWJ8HtHefL9B"
      },
      "execution_count": null,
      "outputs": []
    },
    {
      "cell_type": "code",
      "source": [
        "math.cos(math.pi)"
      ],
      "metadata": {
        "id": "xmFAbQ5OfbiB"
      },
      "execution_count": null,
      "outputs": []
    },
    {
      "cell_type": "code",
      "source": [
        "math.exp(0.0001)"
      ],
      "metadata": {
        "id": "wjEyRv8JflkQ"
      },
      "execution_count": null,
      "outputs": []
    },
    {
      "cell_type": "code",
      "source": [
        "L=[1,2,3,4,5,6,7,8,9]"
      ],
      "metadata": {
        "id": "8BPgN_xrgPVI"
      },
      "execution_count": null,
      "outputs": []
    },
    {
      "cell_type": "code",
      "source": [
        "type(L)"
      ],
      "metadata": {
        "id": "ubf4Peh2g05t"
      },
      "execution_count": null,
      "outputs": []
    },
    {
      "cell_type": "code",
      "source": [
        "L.append(72772)"
      ],
      "metadata": {
        "id": "RSUSruLRg5YY"
      },
      "execution_count": null,
      "outputs": []
    },
    {
      "cell_type": "code",
      "source": [
        "L.append('hola')"
      ],
      "metadata": {
        "id": "P8fzAHjvhDY7"
      },
      "execution_count": null,
      "outputs": []
    },
    {
      "cell_type": "code",
      "source": [
        "L"
      ],
      "metadata": {
        "id": "RAoflIsKhDt1"
      },
      "execution_count": null,
      "outputs": []
    },
    {
      "cell_type": "code",
      "source": [
        "def s(n):\n",
        "  return 1/n"
      ],
      "metadata": {
        "id": "ItCt01yJhD-g"
      },
      "execution_count": null,
      "outputs": []
    },
    {
      "cell_type": "code",
      "source": [
        "s(29)"
      ],
      "metadata": {
        "id": "xTe3sTKXiIbf"
      },
      "execution_count": null,
      "outputs": []
    },
    {
      "cell_type": "code",
      "source": [
        "list(range(100))"
      ],
      "metadata": {
        "id": "MxBqQ7wuiK5h"
      },
      "execution_count": null,
      "outputs": []
    },
    {
      "cell_type": "code",
      "source": [
        "L2=[]\n",
        "for i in range(100000):\n",
        "  L2.append(s(i+1))\n"
      ],
      "metadata": {
        "id": "ajKZUlGqiOKq"
      },
      "execution_count": null,
      "outputs": []
    },
    {
      "cell_type": "code",
      "source": [
        "L2[-1]"
      ],
      "metadata": {
        "id": "Da0Lfj9giONT"
      },
      "execution_count": null,
      "outputs": []
    },
    {
      "cell_type": "code",
      "source": [
        "import matplotlib.pyplot as plt"
      ],
      "metadata": {
        "id": "nkme-aciiOPw"
      },
      "execution_count": null,
      "outputs": []
    },
    {
      "cell_type": "code",
      "source": [
        "plt.plot(range(1,100001),L2,'o')"
      ],
      "metadata": {
        "id": "9b2oKQwZjXUf"
      },
      "execution_count": null,
      "outputs": []
    },
    {
      "cell_type": "code",
      "source": [],
      "metadata": {
        "id": "xCtHo92kjXXV"
      },
      "execution_count": null,
      "outputs": []
    },
    {
      "cell_type": "code",
      "source": [],
      "metadata": {
        "id": "DuHQ_vTCjXZ0"
      },
      "execution_count": null,
      "outputs": []
    },
    {
      "cell_type": "code",
      "source": [],
      "metadata": {
        "id": "X6pObuc1iOSo"
      },
      "execution_count": null,
      "outputs": []
    }
  ]
}